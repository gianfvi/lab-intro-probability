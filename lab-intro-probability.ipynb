{
 "cells": [
  {
   "cell_type": "markdown",
   "metadata": {},
   "source": [
    "# Lab | Intro to Probability"
   ]
  },
  {
   "cell_type": "markdown",
   "metadata": {},
   "source": [
    "**Objective**\n",
    "\n",
    "Welcome to this Intro to Probability lab, where we explore decision-making scenarios through the lens of probability and strategic analysis. In the business world, making informed decisions is crucial, especially when faced with uncertainties. This lab focuses on scenarios where probabilistic outcomes play a significant role in shaping strategies and outcomes. Students will engage in exercises that require assessing and choosing optimal paths based on data-driven insights. The goal is to enhance your skills by applying probability concepts to solve real-world problems."
   ]
  },
  {
   "cell_type": "markdown",
   "metadata": {},
   "source": [
    "**Challenge 1**"
   ]
  },
  {
   "cell_type": "markdown",
   "metadata": {},
   "source": [
    "#### Ironhack Airlines \n",
    "\n",
    "Often Airlines sell more tickets than they have seats available, this is called overbooking. Consider the following:\n",
    "- A plane has 450 seats. \n",
    "- Based on historical data we conclude that each individual passenger has a 3% chance of missing it's flight. \n",
    "\n",
    "If the Ironhack Airlines routinely sells 460 tickets, what is the chance that they have a seats for all passenger?"
   ]
  },
  {
   "cell_type": "code",
   "execution_count": 7,
   "metadata": {},
   "outputs": [
    {
     "name": "stdout",
     "output_type": "stream",
     "text": [
      "The probability that there are seats for all passengers is 1.0000\n"
     ]
    }
   ],
   "source": [
    "from scipy.stats import binom\n",
    "\n",
    "# Given values\n",
    "n = 460  # number of tickets sold\n",
    "p = 0.03  # probability of missing the flight\n",
    "seats_available = 450\n",
    "tickets_sold = 460\n",
    "\n",
    "# Calculate the probability of having fewer than 10 passengers missing the flight\n",
    "# We need at least 10 passengers to miss the flight for everyone to have a seat\n",
    "prob_fewer_than_10_miss = binom.cdf(seats_available - tickets_sold - 1, n, p)\n",
    "\n",
    "# The probability of having at least 10 passengers missing the flight\n",
    "prob_at_least_10_miss = 1 - prob_fewer_than_10_miss\n",
    "\n",
    "print(f\"The probability that there are seats for all passengers is {prob_at_least_10_miss:.4f}\")\n"
   ]
  },
  {
   "cell_type": "markdown",
   "metadata": {},
   "source": [
    "**Challenge 2**"
   ]
  },
  {
   "cell_type": "markdown",
   "metadata": {},
   "source": [
    "#### Ironhack Call Center "
   ]
  },
  {
   "cell_type": "markdown",
   "metadata": {},
   "source": [
    "Suppose a customer service representative at a call center is handling customer complaints. Consider the following:\n",
    "- The probability of successfully resolving a customer complaint on the first attempt is 0.3. \n",
    "\n",
    "\n",
    "What is the probability that the representative needs to make at least three attempts before successfully resolving a customer complaint?"
   ]
  },
  {
   "cell_type": "code",
   "execution_count": 2,
   "metadata": {},
   "outputs": [
    {
     "name": "stdout",
     "output_type": "stream",
     "text": [
      "Probability of needing at least three attempts: 0.4900\n"
     ]
    }
   ],
   "source": [
    "# Probability of success on first attempt\n",
    "p = 0.3\n",
    "\n",
    "# Probability of needing at least 3 attempts\n",
    "probability = (1 - p) ** 2\n",
    "print(f\"Probability of needing at least three attempts: {probability:.4f}\")\n"
   ]
  },
  {
   "cell_type": "markdown",
   "metadata": {},
   "source": [
    "**Challenge 3**"
   ]
  },
  {
   "cell_type": "markdown",
   "metadata": {},
   "source": [
    "#### Ironhack Website"
   ]
  },
  {
   "cell_type": "markdown",
   "metadata": {},
   "source": [
    "Consider a scenario related to Ironhack website traffic. Where:\n",
    "- our website takes on average 500 visits per hour.\n",
    "- the website's server is designed to handle up to 550 vists per hour.\n",
    "\n",
    "\n",
    "What is the probability of the website server being overwhelmed?"
   ]
  },
  {
   "cell_type": "code",
   "execution_count": 9,
   "metadata": {},
   "outputs": [
    {
     "name": "stdout",
     "output_type": "stream",
     "text": [
      "The probability that the website server will be overwhelmed is 0.0129\n"
     ]
    }
   ],
   "source": [
    "from scipy.stats import poisson\n",
    "\n",
    "# Given average number of visits per hour\n",
    "lambda_visits = 500\n",
    "\n",
    "# Calculate the probability of receiving 550 or fewer visits\n",
    "prob_550_or_fewer = poisson.cdf(550, lambda_visits)\n",
    "\n",
    "# Probability of the server being overwhelmed (more than 550 visits)\n",
    "prob_overwhelmed = 1 - prob_550_or_fewer\n",
    "\n",
    "print(f\"The probability that the website server will be overwhelmed is {prob_overwhelmed:.4f}\")\n"
   ]
  },
  {
   "cell_type": "markdown",
   "metadata": {},
   "source": [
    "What is the probability of being overwhelmed at some point during a day? (consider 24hours)"
   ]
  },
  {
   "cell_type": "code",
   "execution_count": 10,
   "metadata": {},
   "outputs": [
    {
     "name": "stdout",
     "output_type": "stream",
     "text": [
      "The probability that the website server will be overwhelmed at least once during a 24-hour day is 0.2677\n"
     ]
    }
   ],
   "source": [
    "from scipy.stats import poisson\n",
    "\n",
    "# Given average number of visits per hour\n",
    "lambda_visits = 500\n",
    "\n",
    "# Calculate the probability of receiving 550 or fewer visits in one hour\n",
    "prob_550_or_fewer = poisson.cdf(550, lambda_visits)\n",
    "\n",
    "# Probability of the server being overwhelmed in one hour\n",
    "prob_overwhelmed_one_hour = 1 - prob_550_or_fewer\n",
    "\n",
    "# Probability of the server not being overwhelmed in one hour\n",
    "prob_not_overwhelmed_one_hour = 1 - prob_overwhelmed_one_hour\n",
    "\n",
    "# Probability of the server not being overwhelmed in any of the 24 hours\n",
    "prob_not_overwhelmed_24_hours = prob_not_overwhelmed_one_hour ** 24\n",
    "\n",
    "# Probability of the server being overwhelmed at least once in 24 hours\n",
    "prob_overwhelmed_24_hours = 1 - prob_not_overwhelmed_24_hours\n",
    "\n",
    "print(f\"The probability that the website server will be overwhelmed at least once during a 24-hour day is {prob_overwhelmed_24_hours:.4f}\")\n"
   ]
  },
  {
   "cell_type": "markdown",
   "metadata": {},
   "source": [
    "**Challenge 4**"
   ]
  },
  {
   "cell_type": "markdown",
   "metadata": {},
   "source": [
    "#### Ironhack Helpdesk"
   ]
  },
  {
   "cell_type": "markdown",
   "metadata": {},
   "source": [
    "Consider a scenario related to the time between arrivals of customers at a service desk.\n",
    "\n",
    "On average, a customers arrives every 10minutes.\n",
    "\n",
    "What is the probability that the next customer will arrive within the next 5 minutes?"
   ]
  },
  {
   "cell_type": "code",
   "execution_count": 11,
   "metadata": {},
   "outputs": [
    {
     "name": "stdout",
     "output_type": "stream",
     "text": [
      "The probability that the next customer will arrive within the next 5 minutes is 0.3935\n"
     ]
    }
   ],
   "source": [
    "import numpy as np\n",
    "\n",
    "# Given values\n",
    "mean_time_between_arrivals = 10  # in minutes\n",
    "lambda_rate = 1 / mean_time_between_arrivals  # rate parameter\n",
    "\n",
    "# Time interval\n",
    "time_interval = 5  # in minutes\n",
    "\n",
    "# Calculate the probability using the exponential CDF formula\n",
    "prob_within_5_minutes = 1 - np.exp(-lambda_rate * time_interval)\n",
    "\n",
    "print(f\"The probability that the next customer will arrive within the next 5 minutes is {prob_within_5_minutes:.4f}\")\n"
   ]
  },
  {
   "cell_type": "markdown",
   "metadata": {},
   "source": [
    "If there is no customer for 15minutes, employees can that a 5minutes break.\n",
    "\n",
    "What is the probability an employee taking a break?"
   ]
  },
  {
   "cell_type": "code",
   "execution_count": 12,
   "metadata": {},
   "outputs": [
    {
     "name": "stdout",
     "output_type": "stream",
     "text": [
      "The probability that no customer arrives within the next 15 minutes is 0.2231\n"
     ]
    }
   ],
   "source": [
    "import numpy as np\n",
    "\n",
    "# Given values\n",
    "mean_time_between_arrivals = 10  # in minutes\n",
    "lambda_rate = 1 / mean_time_between_arrivals  # rate parameter\n",
    "\n",
    "# Time interval for no arrival\n",
    "time_interval = 15  # in minutes\n",
    "\n",
    "# Calculate the probability using the exponential distribution formula\n",
    "prob_no_arrival_15_minutes = np.exp(-lambda_rate * time_interval)\n",
    "\n",
    "print(f\"The probability that no customer arrives within the next 15 minutes is {prob_no_arrival_15_minutes:.4f}\")\n"
   ]
  },
  {
   "cell_type": "markdown",
   "metadata": {},
   "source": [
    "**Challenge 5**"
   ]
  },
  {
   "cell_type": "markdown",
   "metadata": {},
   "source": [
    "The weights of a certain species of birds follow a normal distribution with a mean weight of 150 grams and a standard deviation of 10 grams. \n",
    "\n",
    "- If we randomly select a bird, what is the probability that its weight is between 140 and 160 grams?"
   ]
  },
  {
   "cell_type": "code",
   "execution_count": 13,
   "metadata": {},
   "outputs": [
    {
     "name": "stdout",
     "output_type": "stream",
     "text": [
      "The probability that the bird's weight is between 140 and 160 grams is 0.6827\n"
     ]
    }
   ],
   "source": [
    "from scipy.stats import norm\n",
    "\n",
    "# Given values\n",
    "mean_weight = 150  # in grams\n",
    "std_dev = 10       # in grams\n",
    "lower_bound = 140  # in grams\n",
    "upper_bound = 160  # in grams\n",
    "\n",
    "# Calculate the z-scores for the lower and upper bounds\n",
    "z_lower = (lower_bound - mean_weight) / std_dev\n",
    "z_upper = (upper_bound - mean_weight) / std_dev\n",
    "\n",
    "# Calculate the cumulative probabilities for the lower and upper bounds\n",
    "prob_lower = norm.cdf(z_lower)\n",
    "prob_upper = norm.cdf(z_upper)\n",
    "\n",
    "# The probability that the weight is between 140 and 160 grams\n",
    "prob_between = prob_upper - prob_lower\n",
    "\n",
    "print(f\"The probability that the bird's weight is between 140 and 160 grams is {prob_between:.4f}\")\n"
   ]
  },
  {
   "cell_type": "markdown",
   "metadata": {},
   "source": [
    "**Challenge 6**"
   ]
  },
  {
   "cell_type": "markdown",
   "metadata": {},
   "source": [
    "If the lifetime (in hours) of a certain electronic component follows an exponential distribution with a mean lifetime of 50 hours, what is the probability that the component fails within the first 30 hours?"
   ]
  },
  {
   "cell_type": "code",
   "execution_count": 14,
   "metadata": {},
   "outputs": [
    {
     "name": "stdout",
     "output_type": "stream",
     "text": [
      "The probability that the component fails within the first 30 hours is 0.4512\n"
     ]
    }
   ],
   "source": [
    "import numpy as np\n",
    "\n",
    "# Given values\n",
    "mean_lifetime = 50  # in hours\n",
    "lambda_rate = 1 / mean_lifetime  # rate parameter\n",
    "time_interval = 30  # in hours\n",
    "\n",
    "# Calculate the probability using the exponential CDF formula\n",
    "prob_fail_within_30_hours = 1 - np.exp(-lambda_rate * time_interval)\n",
    "\n",
    "print(f\"The probability that the component fails within the first 30 hours is {prob_fail_within_30_hours:.4f}\")\n"
   ]
  }
 ],
 "metadata": {
  "kernelspec": {
   "display_name": "Python 3",
   "language": "python",
   "name": "python3"
  },
  "language_info": {
   "codemirror_mode": {
    "name": "ipython",
    "version": 3
   },
   "file_extension": ".py",
   "mimetype": "text/x-python",
   "name": "python",
   "nbconvert_exporter": "python",
   "pygments_lexer": "ipython3",
   "version": "3.11.7"
  }
 },
 "nbformat": 4,
 "nbformat_minor": 2
}
